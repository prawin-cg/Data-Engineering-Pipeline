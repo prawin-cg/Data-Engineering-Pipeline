{
 "cells": [
  {
   "cell_type": "code",
   "execution_count": 2,
   "metadata": {},
   "outputs": [],
   "source": [
    "import pandas as pd\n",
    "import numpy as np\n",
    "import json\n",
    "import os"
   ]
  },
  {
   "cell_type": "code",
   "execution_count": 7,
   "metadata": {},
   "outputs": [],
   "source": [
    "sourceFolder='../Documents/exa-data-eng-assessment-main/exa-data-eng-assessment-main/data/'\n",
    "sourceFiles=os.listdir(sourceFolder)\n",
    "sourceFiles=[sourceFolder+file for file in sourceFiles]"
   ]
  },
  {
   "cell_type": "code",
   "execution_count": 8,
   "metadata": {},
   "outputs": [],
   "source": [
    "_entryKeys=[]\n",
    "_resourceKeys=[]\n",
    "\n",
    "for file in sourceFiles:\n",
    "    with open(file,'rb') as f:\n",
    "        data=json.load(f)\n",
    "    entryKeys=[]\n",
    "    resourceKeys=[]\n",
    "    for i in data['entry']:\n",
    "        entryKeys.append(','.join(list(i.keys())))\n",
    "        resourceKeys.append(','.join(list(i['resource'].keys())))\n",
    "    allResourceKeys=[]\n",
    "    for i in pd.Series(resourceKeys).unique():\n",
    "        allResourceKeys.extend(i.split(','))\n",
    "    _entryKeys.extend(entryKeys)\n",
    "    _resourceKeys.extend(set(allResourceKeys))"
   ]
  },
  {
   "cell_type": "code",
   "execution_count": 10,
   "metadata": {},
   "outputs": [
    {
     "data": {
      "text/plain": [
       "101"
      ]
     },
     "execution_count": 10,
     "metadata": {},
     "output_type": "execute_result"
    }
   ],
   "source": [
    "len(set(_resourceKeys))"
   ]
  },
  {
   "cell_type": "code",
   "execution_count": null,
   "metadata": {},
   "outputs": [],
   "source": []
  }
 ],
 "metadata": {
  "kernelspec": {
   "display_name": "Python 3",
   "language": "python",
   "name": "python3"
  },
  "language_info": {
   "codemirror_mode": {
    "name": "ipython",
    "version": 3
   },
   "file_extension": ".py",
   "mimetype": "text/x-python",
   "name": "python",
   "nbconvert_exporter": "python",
   "pygments_lexer": "ipython3",
   "version": "3.7.4"
  }
 },
 "nbformat": 4,
 "nbformat_minor": 2
}
