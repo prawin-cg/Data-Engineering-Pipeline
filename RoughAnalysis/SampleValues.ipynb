{
 "cells": [
  {
   "cell_type": "code",
   "execution_count": 1,
   "metadata": {},
   "outputs": [],
   "source": [
    "import pandas as pd\n",
    "import numpy as np\n",
    "import json\n",
    "import os"
   ]
  },
  {
   "cell_type": "code",
   "execution_count": 2,
   "metadata": {},
   "outputs": [],
   "source": [
    "sourceFolder='../Documents/exa-data-eng-assessment-main/exa-data-eng-assessment-main/data/'\n",
    "sourceFiles=os.listdir(sourceFolder)\n",
    "sourceFiles=[sourceFolder+file for file in sourceFiles]"
   ]
  },
  {
   "cell_type": "code",
   "execution_count": 3,
   "metadata": {},
   "outputs": [],
   "source": [
    "_entryKeys=[]\n",
    "_resourceKeys=[]\n",
    "\n",
    "for file in sourceFiles:\n",
    "    with open(file,'rb') as f:\n",
    "        data=json.load(f)\n",
    "    entryKeys=[]\n",
    "    resourceKeys=[]\n",
    "    for i in data['entry']:\n",
    "        entryKeys.append(','.join(list(i.keys())))\n",
    "        resourceKeys.append(','.join(list(i['resource'].keys())))\n",
    "    allResourceKeys=[]\n",
    "    for i in pd.Series(resourceKeys).unique():\n",
    "        allResourceKeys.extend(i.split(','))\n",
    "    _entryKeys.extend(entryKeys)\n",
    "    _resourceKeys.extend(set(allResourceKeys))"
   ]
  },
  {
   "cell_type": "code",
   "execution_count": 25,
   "metadata": {},
   "outputs": [],
   "source": [
    "keyValue={}"
   ]
  },
  {
   "cell_type": "code",
   "execution_count": 26,
   "metadata": {},
   "outputs": [],
   "source": [
    "for file in sourceFiles:\n",
    "    with open(file,'rb') as f:\n",
    "        data=json.load(f)\n",
    "    for i in data['entry']:\n",
    "        for key in i['resource'].keys():\n",
    "            if key not in keyValue.keys():\n",
    "                keyValue[key]=i['resource'][key]\n",
    "    if keyValue.keys()==len(_resourceKeys):\n",
    "        break"
   ]
  },
  {
   "cell_type": "code",
   "execution_count": 29,
   "metadata": {},
   "outputs": [],
   "source": [
    "valueStr=[str(keyValue[i]) for i in keyValue]\n",
    "for i in range(len(keyValue)) :\n",
    "    keyValue[list(keyValue.keys())[i]]=valueStr[i]"
   ]
  },
  {
   "cell_type": "code",
   "execution_count": 32,
   "metadata": {},
   "outputs": [],
   "source": [
    "pd.DataFrame([keyValue]).to_excel('SampleValues.xlsx',index=False)"
   ]
  },
  {
   "cell_type": "code",
   "execution_count": null,
   "metadata": {},
   "outputs": [],
   "source": []
  }
 ],
 "metadata": {
  "kernelspec": {
   "display_name": "Python 3",
   "language": "python",
   "name": "python3"
  },
  "language_info": {
   "codemirror_mode": {
    "name": "ipython",
    "version": 3
   },
   "file_extension": ".py",
   "mimetype": "text/x-python",
   "name": "python",
   "nbconvert_exporter": "python",
   "pygments_lexer": "ipython3",
   "version": "3.7.4"
  }
 },
 "nbformat": 4,
 "nbformat_minor": 2
}
